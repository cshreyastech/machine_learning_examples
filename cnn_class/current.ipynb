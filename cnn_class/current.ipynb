{
 "cells": [
  {
   "cell_type": "code",
   "execution_count": 48,
   "metadata": {},
   "outputs": [],
   "source": [
    "import os\n",
    "import numpy as np\n",
    "import tensorflow as tf\n",
    "import matplotlib.pyplot as plt\n",
    "\n",
    "from scipy.io import loadmat\n",
    "from sklearn.utils import shuffle\n",
    "from datetime import datetime"
   ]
  },
  {
   "cell_type": "code",
   "execution_count": 20,
   "metadata": {},
   "outputs": [],
   "source": [
    "def y2indicator(y):\n",
    "    N = len(y)\n",
    "    ind = np.zeros((N, 10))\n",
    "    for i in range(N):\n",
    "        ind[i, y[i]] = 1\n",
    "    return ind"
   ]
  },
  {
   "cell_type": "code",
   "execution_count": 4,
   "metadata": {},
   "outputs": [],
   "source": [
    "def error_rate(p, t):\n",
    "    return np.mean(p != t)"
   ]
  },
  {
   "cell_type": "code",
   "execution_count": 22,
   "metadata": {},
   "outputs": [],
   "source": [
    "def flatten(X):\n",
    "    N = X.shape[-1]\n",
    "    flat = np.zeros((N, 3072))\n",
    "    for i in range(N):\n",
    "        flat[i] = X[:,:,:,i].reshape(3072)\n",
    "    return flat"
   ]
  },
  {
   "cell_type": "code",
   "execution_count": 45,
   "metadata": {},
   "outputs": [],
   "source": [
    "def get_data():\n",
    "    if not os.path.exists('/home/schandrasekhar/datasets/large_dataset/housenumber/train_32x32.mat'):\n",
    "        print('Looking for /home/schandrasekhar/datasets/large_dataset/housenumber/train_32x32.mat')\n",
    "        print('You have not downloaded the data and/or not placed the files in the correct location.')\n",
    "        print('Please get the data from: http://ufldl.stanford.edu/housenumbers')\n",
    "        print('Place train_32x32.mat and test_32x32.mat in the folder large_files adjacent to the class folder')\n",
    "        exit()\n",
    "\n",
    "    train = loadmat('/home/schandrasekhar/datasets/large_dataset/housenumber/train_32x32.mat')\n",
    "    test  = loadmat('/home/schandrasekhar/datasets/large_dataset/housenumber/test_32x32.mat')\n",
    "    return train, test"
   ]
  },
  {
   "cell_type": "code",
   "execution_count": 50,
   "metadata": {},
   "outputs": [],
   "source": [
    "def main():\n",
    "    train, test = get_data()\n",
    "    \n",
    "\n",
    "    # Need to scale! don't leave as 0..255\n",
    "    # Y is a N x 1 matrix with values 1..10 (MATLAB indexes by 1)\n",
    "    # So flatten it and make it 0..9\n",
    "    # Also need indicator matrix for cost calculation\n",
    "    Xtrain = flatten(train['X'].astype(np.float32) / 255.)\n",
    "    Ytrain = train['y'].flatten() - 1\n",
    "    Xtrain, Ytrain = shuffle(Xtrain, Ytrain)\n",
    "\n",
    "    Xtest  = flatten(test['X'].astype(np.float32) / 255.)\n",
    "    Ytest  = test['y'].flatten() - 1\n",
    "\n",
    "    # gradient descent params\n",
    "    max_iter = 20\n",
    "    print_period = 10\n",
    "    N, D = Xtrain.shape\n",
    "    batch_sz = 500\n",
    "    n_batches = N // batch_sz\n",
    "\n",
    "    # initial weights\n",
    "    M1 = 1000 # hidden layer size\n",
    "    M2 = 500\n",
    "    K = 10\n",
    "    W1_init = np.random.randn(D, M1) / np.sqrt(D + M1)\n",
    "    b1_init = np.zeros(M1)\n",
    "    W2_init = np.random.randn(M1, M2) / np.sqrt(M1 + M2)\n",
    "    b2_init = np.zeros(M2)\n",
    "    W3_init = np.random.randn(M2, K) / np.sqrt(M2 + K)\n",
    "    b3_init = np.zeros(K)\n",
    "\n",
    "    # define variables and expressions\n",
    "    X = tf.placeholder(tf.float32, shape=(None, D), name='X')\n",
    "    T = tf.placeholder(tf.int32, shape=(None,), name='T')\n",
    "    W1 = tf.Variable(W1_init.astype(np.float32))\n",
    "    b1 = tf.Variable(b1_init.astype(np.float32))\n",
    "    W2 = tf.Variable(W2_init.astype(np.float32))\n",
    "    b2 = tf.Variable(b2_init.astype(np.float32))\n",
    "    W3 = tf.Variable(W3_init.astype(np.float32))\n",
    "    b3 = tf.Variable(b3_init.astype(np.float32))\n",
    "\n",
    "    Z1 = tf.nn.relu( tf.matmul(X, W1) + b1 )\n",
    "    Z2 = tf.nn.relu( tf.matmul(Z1, W2) + b2 )\n",
    "    logits = tf.matmul(Z2, W3) + b3\n",
    "\n",
    "    cost = tf.reduce_sum(\n",
    "        tf.nn.sparse_softmax_cross_entropy_with_logits(\n",
    "            logits=logits,\n",
    "            labels=T\n",
    "        )\n",
    "    )\n",
    "\n",
    "    train_op = tf.train.RMSPropOptimizer(0.0001, decay=0.99, momentum=0.9).minimize(cost)\n",
    "\n",
    "    # we'll use this to calculate the error rate\n",
    "    predict_op = tf.argmax(logits, 1)\n",
    "\n",
    "    t0 = datetime.now()\n",
    "    LL = []\n",
    "    init = tf.global_variables_initializer()\n",
    "    with tf.Session() as session:\n",
    "        session.run(init)\n",
    "\n",
    "        for i in range(max_iter):\n",
    "            for j in range(n_batches):\n",
    "                Xbatch = Xtrain[j*batch_sz:(j*batch_sz + batch_sz),]\n",
    "                Ybatch = Ytrain[j*batch_sz:(j*batch_sz + batch_sz),]\n",
    "\n",
    "                session.run(train_op, feed_dict={X: Xbatch, T: Ybatch})\n",
    "                if j % print_period == 0:\n",
    "                    test_cost = session.run(cost, feed_dict={X: Xtest, T: Ytest})\n",
    "                    prediction = session.run(predict_op, feed_dict={X: Xtest})\n",
    "                    err = error_rate(prediction, Ytest)\n",
    "                    #print(\"Cost / err at iteration i=%d, j=%d: %.3f / %.3f\" % (i, j, test_cost, err))\n",
    "                    LL.append(test_cost)\n",
    "    print(\"Elapsed time:\", (datetime.now() - t0))\n",
    "    plt.plot(LL)\n",
    "    plt.show()"
   ]
  },
  {
   "cell_type": "code",
   "execution_count": 51,
   "metadata": {},
   "outputs": [
    {
     "name": "stdout",
     "output_type": "stream",
     "text": [
      "Elapsed time: 0:05:14.423234\n"
     ]
    },
    {
     "data": {
      "image/png": "[encoded data removed]",
      "text/plain": [
       "<Figure size 432x288 with 1 Axes>"
      ]
     },
     "metadata": {
      "needs_background": "light"
     },
     "output_type": "display_data"
    }
   ],
   "source": [
    "\n",
    "if __name__ == '__main__':\n",
    "    main()\n"
   ]
  },
  {
   "cell_type": "code",
   "execution_count": null,
   "metadata": {},
   "outputs": [],
   "source": []
  }
 ],
 "metadata": {
  "kernelspec": {
   "display_name": "Python 3",
   "language": "python",
   "name": "python3"
  },
  "language_info": {
   "codemirror_mode": {
    "name": "ipython",
    "version": 3
   },
   "file_extension": ".py",
   "mimetype": "text/x-python",
   "name": "python",
   "nbconvert_exporter": "python",
   "pygments_lexer": "ipython3",
   "version": "3.6.0"
  }
 },
 "nbformat": 4,
 "nbformat_minor": 2
}
